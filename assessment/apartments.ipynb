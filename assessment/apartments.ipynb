{
 "cells": [
  {
   "cell_type": "markdown",
   "metadata": {},
   "source": [
    "# JC3503 Assignment - Apartments\n",
    "\n",
    "---\n",
    "\n",
    "Student Name:   Yueju Han\n",
    "\n",
    "Student Email:    u11yh21@abdn.ac.uk\n",
    "\n",
    "Student ID:      50079687\n",
    "\n",
    "---\n",
    "\n",
    "Additional information about the dataset: https://archive.ics.uci.edu/dataset/555/apartment+for+rent+classified"
   ]
  },
  {
   "cell_type": "code",
   "execution_count": 24,
   "metadata": {},
   "outputs": [
    {
     "data": {
      "text/html": [
       "<div>\n",
       "<style scoped>\n",
       "    .dataframe tbody tr th:only-of-type {\n",
       "        vertical-align: middle;\n",
       "    }\n",
       "\n",
       "    .dataframe tbody tr th {\n",
       "        vertical-align: top;\n",
       "    }\n",
       "\n",
       "    .dataframe thead th {\n",
       "        text-align: right;\n",
       "    }\n",
       "</style>\n",
       "<table border=\"1\" class=\"dataframe\">\n",
       "  <thead>\n",
       "    <tr style=\"text-align: right;\">\n",
       "      <th></th>\n",
       "      <th>id</th>\n",
       "      <th>category</th>\n",
       "      <th>title</th>\n",
       "      <th>body</th>\n",
       "      <th>amenities</th>\n",
       "      <th>bathrooms</th>\n",
       "      <th>bedrooms</th>\n",
       "      <th>currency</th>\n",
       "      <th>fee</th>\n",
       "      <th>has_photo</th>\n",
       "      <th>...</th>\n",
       "      <th>price_display</th>\n",
       "      <th>price_type</th>\n",
       "      <th>square_feet</th>\n",
       "      <th>address</th>\n",
       "      <th>cityname</th>\n",
       "      <th>state</th>\n",
       "      <th>latitude</th>\n",
       "      <th>longitude</th>\n",
       "      <th>source</th>\n",
       "      <th>time</th>\n",
       "    </tr>\n",
       "  </thead>\n",
       "  <tbody>\n",
       "    <tr>\n",
       "      <th>0</th>\n",
       "      <td>5668640009</td>\n",
       "      <td>housing/rent/apartment</td>\n",
       "      <td>One BR 507 &amp; 509 Esplanade</td>\n",
       "      <td>This unit is located at 507 &amp; 509 Esplanade, R...</td>\n",
       "      <td>NaN</td>\n",
       "      <td>1.0</td>\n",
       "      <td>1.0</td>\n",
       "      <td>USD</td>\n",
       "      <td>No</td>\n",
       "      <td>Thumbnail</td>\n",
       "      <td>...</td>\n",
       "      <td>$2,195</td>\n",
       "      <td>Monthly</td>\n",
       "      <td>542</td>\n",
       "      <td>507  509 Esplanade</td>\n",
       "      <td>Redondo Beach</td>\n",
       "      <td>CA</td>\n",
       "      <td>33.8520</td>\n",
       "      <td>-118.3759</td>\n",
       "      <td>RentLingo</td>\n",
       "      <td>1577360355</td>\n",
       "    </tr>\n",
       "    <tr>\n",
       "      <th>1</th>\n",
       "      <td>5668639818</td>\n",
       "      <td>housing/rent/apartment</td>\n",
       "      <td>Three BR 146 Lochview Drive</td>\n",
       "      <td>This unit is located at 146 Lochview Drive, Ne...</td>\n",
       "      <td>NaN</td>\n",
       "      <td>1.5</td>\n",
       "      <td>3.0</td>\n",
       "      <td>USD</td>\n",
       "      <td>No</td>\n",
       "      <td>Thumbnail</td>\n",
       "      <td>...</td>\n",
       "      <td>$1,250</td>\n",
       "      <td>Monthly</td>\n",
       "      <td>1500</td>\n",
       "      <td>146 Lochview Dr</td>\n",
       "      <td>Newport News</td>\n",
       "      <td>VA</td>\n",
       "      <td>37.0867</td>\n",
       "      <td>-76.4941</td>\n",
       "      <td>RentLingo</td>\n",
       "      <td>1577360340</td>\n",
       "    </tr>\n",
       "    <tr>\n",
       "      <th>2</th>\n",
       "      <td>5668639686</td>\n",
       "      <td>housing/rent/apartment</td>\n",
       "      <td>Three BR 3101 Morningside Drive</td>\n",
       "      <td>This unit is located at 3101 Morningside Drive...</td>\n",
       "      <td>NaN</td>\n",
       "      <td>2.0</td>\n",
       "      <td>3.0</td>\n",
       "      <td>USD</td>\n",
       "      <td>No</td>\n",
       "      <td>Thumbnail</td>\n",
       "      <td>...</td>\n",
       "      <td>$1,395</td>\n",
       "      <td>Monthly</td>\n",
       "      <td>1650</td>\n",
       "      <td>3101 Morningside Dr</td>\n",
       "      <td>Raleigh</td>\n",
       "      <td>NC</td>\n",
       "      <td>35.8230</td>\n",
       "      <td>-78.6438</td>\n",
       "      <td>RentLingo</td>\n",
       "      <td>1577360332</td>\n",
       "    </tr>\n",
       "    <tr>\n",
       "      <th>3</th>\n",
       "      <td>5668639659</td>\n",
       "      <td>housing/rent/apartment</td>\n",
       "      <td>Two BR 209 Aegean Way</td>\n",
       "      <td>This unit is located at 209 Aegean Way, Vacavi...</td>\n",
       "      <td>NaN</td>\n",
       "      <td>1.0</td>\n",
       "      <td>2.0</td>\n",
       "      <td>USD</td>\n",
       "      <td>No</td>\n",
       "      <td>Thumbnail</td>\n",
       "      <td>...</td>\n",
       "      <td>$1,600</td>\n",
       "      <td>Monthly</td>\n",
       "      <td>820</td>\n",
       "      <td>209 Aegean Way</td>\n",
       "      <td>Vacaville</td>\n",
       "      <td>CA</td>\n",
       "      <td>38.3622</td>\n",
       "      <td>-121.9712</td>\n",
       "      <td>RentLingo</td>\n",
       "      <td>1577360330</td>\n",
       "    </tr>\n",
       "    <tr>\n",
       "      <th>4</th>\n",
       "      <td>5668639374</td>\n",
       "      <td>housing/rent/apartment</td>\n",
       "      <td>One BR 4805 Marquette NE</td>\n",
       "      <td>This unit is located at 4805 Marquette NE, Alb...</td>\n",
       "      <td>NaN</td>\n",
       "      <td>1.0</td>\n",
       "      <td>1.0</td>\n",
       "      <td>USD</td>\n",
       "      <td>No</td>\n",
       "      <td>Thumbnail</td>\n",
       "      <td>...</td>\n",
       "      <td>$975</td>\n",
       "      <td>Monthly</td>\n",
       "      <td>624</td>\n",
       "      <td>4805 Marquette NE</td>\n",
       "      <td>Albuquerque</td>\n",
       "      <td>NM</td>\n",
       "      <td>35.1038</td>\n",
       "      <td>-106.6110</td>\n",
       "      <td>RentLingo</td>\n",
       "      <td>1577360308</td>\n",
       "    </tr>\n",
       "  </tbody>\n",
       "</table>\n",
       "<p>5 rows × 22 columns</p>\n",
       "</div>"
      ],
      "text/plain": [
       "           id                category                            title  \\\n",
       "0  5668640009  housing/rent/apartment       One BR 507 & 509 Esplanade   \n",
       "1  5668639818  housing/rent/apartment      Three BR 146 Lochview Drive   \n",
       "2  5668639686  housing/rent/apartment  Three BR 3101 Morningside Drive   \n",
       "3  5668639659  housing/rent/apartment            Two BR 209 Aegean Way   \n",
       "4  5668639374  housing/rent/apartment         One BR 4805 Marquette NE   \n",
       "\n",
       "                                                body amenities  bathrooms  \\\n",
       "0  This unit is located at 507 & 509 Esplanade, R...       NaN        1.0   \n",
       "1  This unit is located at 146 Lochview Drive, Ne...       NaN        1.5   \n",
       "2  This unit is located at 3101 Morningside Drive...       NaN        2.0   \n",
       "3  This unit is located at 209 Aegean Way, Vacavi...       NaN        1.0   \n",
       "4  This unit is located at 4805 Marquette NE, Alb...       NaN        1.0   \n",
       "\n",
       "   bedrooms currency fee  has_photo  ... price_display  price_type  \\\n",
       "0       1.0      USD  No  Thumbnail  ...        $2,195     Monthly   \n",
       "1       3.0      USD  No  Thumbnail  ...        $1,250     Monthly   \n",
       "2       3.0      USD  No  Thumbnail  ...        $1,395     Monthly   \n",
       "3       2.0      USD  No  Thumbnail  ...        $1,600     Monthly   \n",
       "4       1.0      USD  No  Thumbnail  ...          $975     Monthly   \n",
       "\n",
       "  square_feet              address       cityname state latitude longitude  \\\n",
       "0         542   507  509 Esplanade  Redondo Beach    CA  33.8520 -118.3759   \n",
       "1        1500      146 Lochview Dr   Newport News    VA  37.0867  -76.4941   \n",
       "2        1650  3101 Morningside Dr        Raleigh    NC  35.8230  -78.6438   \n",
       "3         820       209 Aegean Way      Vacaville    CA  38.3622 -121.9712   \n",
       "4         624    4805 Marquette NE    Albuquerque    NM  35.1038 -106.6110   \n",
       "\n",
       "      source        time  \n",
       "0  RentLingo  1577360355  \n",
       "1  RentLingo  1577360340  \n",
       "2  RentLingo  1577360332  \n",
       "3  RentLingo  1577360330  \n",
       "4  RentLingo  1577360308  \n",
       "\n",
       "[5 rows x 22 columns]"
      ]
     },
     "execution_count": 24,
     "metadata": {},
     "output_type": "execute_result"
    }
   ],
   "source": [
    "# Add any pre-requisites or libraries here\n",
    "import pandas as pd\n",
    "import seaborn as sns\n",
    "import sklearn as sk\n",
    "\n",
    "\n",
    "# Import the data\n",
    "df = pd.read_csv(\"apartments.csv\", low_memory=False)\n",
    "df.head()"
   ]
  },
  {
   "cell_type": "markdown",
   "metadata": {},
   "source": [
    "### EDA and data cleaning\n",
    "In this section, I would perform several explorative data analysis to familiarize with the dataset. After this, I would clean the dataset by filling or dropping the missing values, handling the outliers and "
   ]
  },
  {
   "cell_type": "markdown",
   "metadata": {},
   "source": [
    "In the following cell, I check the value of the attributes. \n",
    "\n",
    "The shape of the dataset is 99492 * 22. The data structure of attributes in the dataset vary a lot.\n",
    "\n",
    "By examining the output, it is clear that `amenities`, `bathrooms`,`bedrooms`, `pets_allowed`, `address`, `city name`, `state`, `latitude` and `longitude` are containing NaN values. What's more, attributes `pets_allowed` and `address` seem to have quite amount of empty values which have a great impact on the data mining process."
   ]
  },
  {
   "cell_type": "code",
   "execution_count": 25,
   "metadata": {},
   "outputs": [
    {
     "name": "stdout",
     "output_type": "stream",
     "text": [
      "<class 'pandas.core.frame.DataFrame'>\n",
      "RangeIndex: 99492 entries, 0 to 99491\n",
      "Data columns (total 22 columns):\n",
      " #   Column         Non-Null Count  Dtype  \n",
      "---  ------         --------------  -----  \n",
      " 0   id             99492 non-null  int64  \n",
      " 1   category       99492 non-null  object \n",
      " 2   title          99492 non-null  object \n",
      " 3   body           99492 non-null  object \n",
      " 4   amenities      83448 non-null  object \n",
      " 5   bathrooms      99429 non-null  float64\n",
      " 6   bedrooms       99368 non-null  float64\n",
      " 7   currency       99492 non-null  object \n",
      " 8   fee            99492 non-null  object \n",
      " 9   has_photo      99492 non-null  object \n",
      " 10  pets_allowed   39068 non-null  object \n",
      " 11  price          99491 non-null  float64\n",
      " 12  price_display  99491 non-null  object \n",
      " 13  price_type     99492 non-null  object \n",
      " 14  square_feet    99492 non-null  int64  \n",
      " 15  address        7943 non-null   object \n",
      " 16  cityname       99190 non-null  object \n",
      " 17  state          99190 non-null  object \n",
      " 18  latitude       99467 non-null  float64\n",
      " 19  longitude      99467 non-null  float64\n",
      " 20  source         99492 non-null  object \n",
      " 21  time           99492 non-null  int64  \n",
      "dtypes: float64(5), int64(3), object(14)\n",
      "memory usage: 16.7+ MB\n"
     ]
    }
   ],
   "source": [
    "df.info()"
   ]
  },
  {
   "cell_type": "markdown",
   "metadata": {},
   "source": [
    "To have a overview of the numerical data, I calculate the mean, median and std according to each attributes.\n",
    "\n",
    "Id: it makes no sense to do this with id attributes. :\\)\n",
    "\n",
    "bathrooms: however the max value is likely to be an outlier\n",
    "\n",
    "bedrooms: containing missing values, again , the max value is seem to be outlier\n",
    "\n",
    "price: may contain outliers ( need to seperate the monthly and weekly payment)\n",
    "\n",
    "square_feet: highley possible has outliers."
   ]
  },
  {
   "cell_type": "code",
   "execution_count": 26,
   "metadata": {},
   "outputs": [
    {
     "data": {
      "text/html": [
       "<div>\n",
       "<style scoped>\n",
       "    .dataframe tbody tr th:only-of-type {\n",
       "        vertical-align: middle;\n",
       "    }\n",
       "\n",
       "    .dataframe tbody tr th {\n",
       "        vertical-align: top;\n",
       "    }\n",
       "\n",
       "    .dataframe thead th {\n",
       "        text-align: right;\n",
       "    }\n",
       "</style>\n",
       "<table border=\"1\" class=\"dataframe\">\n",
       "  <thead>\n",
       "    <tr style=\"text-align: right;\">\n",
       "      <th></th>\n",
       "      <th>id</th>\n",
       "      <th>bathrooms</th>\n",
       "      <th>bedrooms</th>\n",
       "      <th>price</th>\n",
       "      <th>square_feet</th>\n",
       "      <th>latitude</th>\n",
       "      <th>longitude</th>\n",
       "      <th>time</th>\n",
       "    </tr>\n",
       "  </thead>\n",
       "  <tbody>\n",
       "    <tr>\n",
       "      <th>count</th>\n",
       "      <td>9.949200e+04</td>\n",
       "      <td>99429.000000</td>\n",
       "      <td>99368.000000</td>\n",
       "      <td>99491.000000</td>\n",
       "      <td>99492.000000</td>\n",
       "      <td>99467.000000</td>\n",
       "      <td>99467.000000</td>\n",
       "      <td>9.949200e+04</td>\n",
       "    </tr>\n",
       "    <tr>\n",
       "      <th>mean</th>\n",
       "      <td>5.358321e+09</td>\n",
       "      <td>1.445323</td>\n",
       "      <td>1.728212</td>\n",
       "      <td>1527.057281</td>\n",
       "      <td>956.430688</td>\n",
       "      <td>36.947988</td>\n",
       "      <td>-91.568656</td>\n",
       "      <td>1.559665e+09</td>\n",
       "    </tr>\n",
       "    <tr>\n",
       "      <th>std</th>\n",
       "      <td>1.847404e+08</td>\n",
       "      <td>0.547021</td>\n",
       "      <td>0.749200</td>\n",
       "      <td>904.245882</td>\n",
       "      <td>417.571522</td>\n",
       "      <td>4.599461</td>\n",
       "      <td>15.817168</td>\n",
       "      <td>1.105077e+07</td>\n",
       "    </tr>\n",
       "    <tr>\n",
       "      <th>min</th>\n",
       "      <td>5.121046e+09</td>\n",
       "      <td>1.000000</td>\n",
       "      <td>0.000000</td>\n",
       "      <td>100.000000</td>\n",
       "      <td>101.000000</td>\n",
       "      <td>19.573800</td>\n",
       "      <td>-159.369800</td>\n",
       "      <td>1.544174e+09</td>\n",
       "    </tr>\n",
       "    <tr>\n",
       "      <th>25%</th>\n",
       "      <td>5.197950e+09</td>\n",
       "      <td>1.000000</td>\n",
       "      <td>1.000000</td>\n",
       "      <td>1013.000000</td>\n",
       "      <td>729.000000</td>\n",
       "      <td>33.746500</td>\n",
       "      <td>-104.791900</td>\n",
       "      <td>1.550832e+09</td>\n",
       "    </tr>\n",
       "    <tr>\n",
       "      <th>50%</th>\n",
       "      <td>5.508673e+09</td>\n",
       "      <td>1.000000</td>\n",
       "      <td>2.000000</td>\n",
       "      <td>1350.000000</td>\n",
       "      <td>900.000000</td>\n",
       "      <td>37.228200</td>\n",
       "      <td>-84.562300</td>\n",
       "      <td>1.568745e+09</td>\n",
       "    </tr>\n",
       "    <tr>\n",
       "      <th>75%</th>\n",
       "      <td>5.509007e+09</td>\n",
       "      <td>2.000000</td>\n",
       "      <td>2.000000</td>\n",
       "      <td>1795.000000</td>\n",
       "      <td>1115.000000</td>\n",
       "      <td>39.953000</td>\n",
       "      <td>-77.608200</td>\n",
       "      <td>1.568767e+09</td>\n",
       "    </tr>\n",
       "    <tr>\n",
       "      <th>max</th>\n",
       "      <td>5.669439e+09</td>\n",
       "      <td>9.000000</td>\n",
       "      <td>9.000000</td>\n",
       "      <td>52500.000000</td>\n",
       "      <td>50000.000000</td>\n",
       "      <td>64.833200</td>\n",
       "      <td>-68.778800</td>\n",
       "      <td>1.577391e+09</td>\n",
       "    </tr>\n",
       "  </tbody>\n",
       "</table>\n",
       "</div>"
      ],
      "text/plain": [
       "                 id     bathrooms      bedrooms         price   square_feet  \\\n",
       "count  9.949200e+04  99429.000000  99368.000000  99491.000000  99492.000000   \n",
       "mean   5.358321e+09      1.445323      1.728212   1527.057281    956.430688   \n",
       "std    1.847404e+08      0.547021      0.749200    904.245882    417.571522   \n",
       "min    5.121046e+09      1.000000      0.000000    100.000000    101.000000   \n",
       "25%    5.197950e+09      1.000000      1.000000   1013.000000    729.000000   \n",
       "50%    5.508673e+09      1.000000      2.000000   1350.000000    900.000000   \n",
       "75%    5.509007e+09      2.000000      2.000000   1795.000000   1115.000000   \n",
       "max    5.669439e+09      9.000000      9.000000  52500.000000  50000.000000   \n",
       "\n",
       "           latitude     longitude          time  \n",
       "count  99467.000000  99467.000000  9.949200e+04  \n",
       "mean      36.947988    -91.568656  1.559665e+09  \n",
       "std        4.599461     15.817168  1.105077e+07  \n",
       "min       19.573800   -159.369800  1.544174e+09  \n",
       "25%       33.746500   -104.791900  1.550832e+09  \n",
       "50%       37.228200    -84.562300  1.568745e+09  \n",
       "75%       39.953000    -77.608200  1.568767e+09  \n",
       "max       64.833200    -68.778800  1.577391e+09  "
      ]
     },
     "execution_count": 26,
     "metadata": {},
     "output_type": "execute_result"
    }
   ],
   "source": [
    "df.describe()"
   ]
  },
  {
   "cell_type": "markdown",
   "metadata": {},
   "source": [
    "Now I begin to clean the dataset. First I check the duplication of the rows"
   ]
  },
  {
   "cell_type": "code",
   "execution_count": 53,
   "metadata": {},
   "outputs": [
    {
     "name": "stdout",
     "output_type": "stream",
     "text": [
      "84 84\n"
     ]
    }
   ],
   "source": [
    "print(df.duplicated().sum(), df['id'].duplicated().sum())"
   ]
  },
  {
   "cell_type": "code",
   "execution_count": 55,
   "metadata": {},
   "outputs": [
    {
     "data": {
      "text/plain": [
       "(99408, 22)"
      ]
     },
     "execution_count": 55,
     "metadata": {},
     "output_type": "execute_result"
    }
   ],
   "source": [
    "df.drop_duplicates(inplace=True)              # just drop the duplicated rows\n",
    "df.shape                                      # check the final amount of instances"
   ]
  },
  {
   "cell_type": "markdown",
   "metadata": {},
   "source": [
    "Handle the Object data first!\n"
   ]
  },
  {
   "cell_type": "code",
   "execution_count": 60,
   "metadata": {},
   "outputs": [
    {
     "data": {
      "text/plain": [
       "housing/rent/apartment            99347\n",
       "housing/rent/commercial/retail       42\n",
       "housing/rent                          7\n",
       "housing/rent/home                     4\n",
       "housing/rent/short_term               4\n",
       "housing/rent/condo                    3\n",
       "housing/rent/other                    1\n",
       "Name: category, dtype: int64"
      ]
     },
     "execution_count": 60,
     "metadata": {},
     "output_type": "execute_result"
    }
   ],
   "source": [
    "df['category'].value_counts()            # get to know the values of category field"
   ]
  },
  {
   "cell_type": "code",
   "execution_count": 70,
   "metadata": {},
   "outputs": [
    {
     "data": {
      "text/plain": [
       "1    99347\n",
       "2       42\n",
       "3        7\n",
       "4        4\n",
       "5        4\n",
       "6        3\n",
       "7        1\n",
       "Name: category_encoded, dtype: int64"
      ]
     },
     "execution_count": 70,
     "metadata": {},
     "output_type": "execute_result"
    }
   ],
   "source": [
    "# convert the category into ordinal data\n",
    "# this would help the process of dateset when apply regression or classification model\n",
    "df['category'].unique()\n",
    "category_to_ordinal = {\n",
    "    'housing/rent/apartment' : 1,\n",
    "    'housing/rent/commercial/retail' : 2,\n",
    "    'housing/rent' : 3,\n",
    "    'housing/rent/home' : 4,\n",
    "    'housing/rent/short_term' : 5,\n",
    "    'housing/rent/condo' : 6,\n",
    "    'housing/rent/other' : 7,\n",
    "}\n",
    "df[\"category_encoded\"] = df['category'].map(category_to_ordinal)\n",
    "df[\"category_encoded\"].value_counts()"
   ]
  },
  {
   "cell_type": "code",
   "execution_count": 76,
   "metadata": {},
   "outputs": [
    {
     "data": {
      "text/plain": [
       "(99408, 21)"
      ]
     },
     "execution_count": 76,
     "metadata": {},
     "output_type": "execute_result"
    }
   ],
   "source": [
    "# drop the title and body field for now, because text mining could separate from the conventional data mining process\n",
    "df_title_body = df\n",
    "df = df.drop(['title','body'],axis=1)\n",
    "df.shape"
   ]
  },
  {
   "cell_type": "code",
   "execution_count": 82,
   "metadata": {},
   "outputs": [
    {
     "name": "stdout",
     "output_type": "stream",
     "text": [
      "16034\n"
     ]
    },
    {
     "data": {
      "text/plain": [
       "Parking                                                                                                    6180\n",
       "Parking,Storage                                                                                            2115\n",
       "Gym,Pool                                                                                                   1870\n",
       "Pool                                                                                                       1484\n",
       "Gym,Parking,Pool                                                                                           1180\n",
       "                                                                                                           ... \n",
       "Clubhouse,Gym,Patio/Deck,Pool,Storage,Tennis                                                                  1\n",
       "Elevator,Gated,Parking,Wood Floors                                                                            1\n",
       "AC,Cable or Satellite,Dishwasher,Fireplace,Garbage Disposal,Patio/Deck,Refrigerator,Tennis,Washer Dryer       1\n",
       "Gated,Parking,Pool,Washer Dryer,Wood Floors                                                                   1\n",
       "Dishwasher,Doorman,Patio/Deck,Refrigerator,Storage,Washer Dryer,Wood Floors                                   1\n",
       "Name: amenities, Length: 9827, dtype: int64"
      ]
     },
     "execution_count": 82,
     "metadata": {},
     "output_type": "execute_result"
    }
   ],
   "source": [
    "print(df.amenities.isnull().sum())\n",
    "df['amenities'].value_counts()"
   ]
  },
  {
   "cell_type": "code",
   "execution_count": 103,
   "metadata": {},
   "outputs": [],
   "source": [
    "# for the amenities attribute, I convert it into interval data. \n",
    "# In detail, NaN value is 0. The others is the number of the amenities the apartment provides\n",
    "df[\"amenities_num\"] = 0\n",
    "for i,rows in df.iterrows():\n",
    "    if pd.notna(rows.amenities):\n",
    "        amenity = rows.amenities.split(',')\n",
    "        df.at[i,'amenities_num'] = len(amenity)"
   ]
  },
  {
   "cell_type": "code",
   "execution_count": 104,
   "metadata": {},
   "outputs": [
    {
     "data": {
      "text/plain": [
       "0     16034\n",
       "3     14521\n",
       "2     14210\n",
       "1     13395\n",
       "4     10660\n",
       "5      7593\n",
       "6      5691\n",
       "7      4527\n",
       "8      3166\n",
       "9      2397\n",
       "10     2062\n",
       "11     1571\n",
       "12     1351\n",
       "13      913\n",
       "14      643\n",
       "15      414\n",
       "16      192\n",
       "17       56\n",
       "18       12\n",
       "Name: amenities_num, dtype: int64"
      ]
     },
     "execution_count": 104,
     "metadata": {},
     "output_type": "execute_result"
    }
   ],
   "source": [
    "df[\"amenities_num\"].value_counts()"
   ]
  },
  {
   "cell_type": "code",
   "execution_count": 110,
   "metadata": {},
   "outputs": [
    {
     "name": "stdout",
     "output_type": "stream",
     "text": [
      "USD    99408\n",
      "Name: currency, dtype: int64 \n",
      " No     99207\n",
      "Yes      201\n",
      "Name: fee, dtype: int64\n"
     ]
    }
   ],
   "source": [
    "# check both currency and fee\n",
    "print(df.currency.value_counts(),'\\n',df.fee.value_counts())"
   ]
  },
  {
   "cell_type": "code",
   "execution_count": 111,
   "metadata": {},
   "outputs": [
    {
     "data": {
      "text/plain": [
       "0    99207\n",
       "1      201\n",
       "Name: fee_binary, dtype: int64"
      ]
     },
     "execution_count": 111,
     "metadata": {},
     "output_type": "execute_result"
    }
   ],
   "source": [
    "# So there is no need to change currency as they are all the same\n",
    "# encode fee, 0 for No and 1 for Yes\n",
    "fee_to_binary = {'No':0,\"Yes\":1}\n",
    "df[\"fee_binary\"] = df[\"fee\"].map(fee_to_binary)\n",
    "df[\"fee_binary\"].value_counts()"
   ]
  },
  {
   "cell_type": "code",
   "execution_count": 114,
   "metadata": {},
   "outputs": [
    {
     "name": "stdout",
     "output_type": "stream",
     "text": [
      "0\n"
     ]
    },
    {
     "data": {
      "text/plain": [
       "Yes          55908\n",
       "Thumbnail    34302\n",
       "No            9198\n",
       "Name: has_photo, dtype: int64"
      ]
     },
     "execution_count": 114,
     "metadata": {},
     "output_type": "execute_result"
    }
   ],
   "source": [
    "# has_photo field\n",
    "print(df.has_photo.isnull().sum())\n",
    "df.has_photo.value_counts()"
   ]
  },
  {
   "cell_type": "code",
   "execution_count": 115,
   "metadata": {},
   "outputs": [],
   "source": [
    "# also convert this field into ordianl data\n",
    "photo_to_ordinal = {\"No\":0,\"Yes\":1,\"Thumbnail\":2}\n",
    "df[\"photo\"] = df[\"has_photo\"].map(photo_to_ordinal)"
   ]
  },
  {
   "cell_type": "code",
   "execution_count": 116,
   "metadata": {},
   "outputs": [
    {
     "data": {
      "text/plain": [
       "Cats,Dogs         37066\n",
       "Cats               1840\n",
       "Dogs                127\n",
       "Cats,Dogs,None        1\n",
       "Name: pets_allowed, dtype: int64"
      ]
     },
     "execution_count": 116,
     "metadata": {},
     "output_type": "execute_result"
    }
   ],
   "source": [
    "# pets_allowed field\n",
    "df[\"pets_allowed\"].value_counts()"
   ]
  },
  {
   "cell_type": "code",
   "execution_count": 123,
   "metadata": {},
   "outputs": [],
   "source": [
    "# in this case, i create two separate colums for cat and dog\n",
    "df['Cats'] = 0\n",
    "df['Dogs'] = 0\n",
    "for i, row in df.iterrows():\n",
    "    if pd.notna(row.pets_allowed):\n",
    "        pets = row.pets_allowed.split(\",\")\n",
    "        if len(pets) == 3:\n",
    "            pets.remove('None')\n",
    "        for p in pets:\n",
    "            df.at[i,p] = 1\n"
   ]
  },
  {
   "cell_type": "code",
   "execution_count": 125,
   "metadata": {},
   "outputs": [
    {
     "data": {
      "text/plain": [
       "0    62214\n",
       "1    37194\n",
       "Name: Dogs, dtype: int64"
      ]
     },
     "execution_count": 125,
     "metadata": {},
     "output_type": "execute_result"
    }
   ],
   "source": [
    "df['Dogs'].value_counts()"
   ]
  },
  {
   "cell_type": "code",
   "execution_count": 131,
   "metadata": {},
   "outputs": [
    {
     "data": {
      "text/plain": [
       "(91466, 302, 302)"
      ]
     },
     "execution_count": 131,
     "metadata": {},
     "output_type": "execute_result"
    }
   ],
   "source": [
    "# df.loc[:,['address','cityname','state','latitude','longitude']].head()\n",
    "df[\"address\"].isnull().sum(), df['cityname'].isnull().sum(), df['state'].isnull().sum()"
   ]
  },
  {
   "cell_type": "code",
   "execution_count": null,
   "metadata": {},
   "outputs": [],
   "source": [
    "# the address attribute has too much missing data, and can be discard since the location can be determined by other attributes\n",
    "df = df.drop('address',axis=1)"
   ]
  },
  {
   "cell_type": "code",
   "execution_count": 141,
   "metadata": {},
   "outputs": [
    {
     "name": "stdout",
     "output_type": "stream",
     "text": [
      "<class 'pandas.core.frame.DataFrame'>\n",
      "Int64Index: 99408 entries, 0 to 99491\n",
      "Data columns (total 25 columns):\n",
      " #   Column            Non-Null Count  Dtype  \n",
      "---  ------            --------------  -----  \n",
      " 0   id                99408 non-null  int64  \n",
      " 1   category          99408 non-null  object \n",
      " 2   amenities         83374 non-null  object \n",
      " 3   bathrooms         99408 non-null  float64\n",
      " 4   bedrooms          99284 non-null  float64\n",
      " 5   currency          99408 non-null  object \n",
      " 6   fee               99408 non-null  object \n",
      " 7   has_photo         99408 non-null  object \n",
      " 8   pets_allowed      39034 non-null  object \n",
      " 9   price             99407 non-null  float64\n",
      " 10  price_display     99407 non-null  object \n",
      " 11  price_type        99408 non-null  object \n",
      " 12  square_feet       99408 non-null  int64  \n",
      " 13  cityname          99106 non-null  object \n",
      " 14  state             99106 non-null  object \n",
      " 15  latitude          99383 non-null  float64\n",
      " 16  longitude         99383 non-null  float64\n",
      " 17  source            99408 non-null  object \n",
      " 18  time              99408 non-null  int64  \n",
      " 19  category_encoded  99408 non-null  int64  \n",
      " 20  amenities_num     99408 non-null  int64  \n",
      " 21  fee_binary        99408 non-null  int64  \n",
      " 22  photo             99408 non-null  int64  \n",
      " 23  Cats              99408 non-null  int64  \n",
      " 24  Dogs              99408 non-null  int64  \n",
      "dtypes: float64(5), int64(9), object(11)\n",
      "memory usage: 21.7+ MB\n"
     ]
    }
   ],
   "source": []
  },
  {
   "cell_type": "markdown",
   "metadata": {},
   "source": [
    "Handle the numerical data first!\n",
    "\n",
    "For bathroom attributes, I first fill in the missing value with the mean. And then check all possible value of bathrooms, finding that it is wrong to have non-integer bathrooms. In addition, box plot shows that there are multiple outliers."
   ]
  },
  {
   "cell_type": "code",
   "execution_count": 37,
   "metadata": {},
   "outputs": [
    {
     "data": {
      "text/plain": [
       "1.000000    56303\n",
       "2.000000    36570\n",
       "1.500000     3175\n",
       "2.500000     2081\n",
       "3.000000      890\n",
       "3.500000      208\n",
       "4.000000      120\n",
       "1.445323       63\n",
       "4.500000       42\n",
       "5.000000       20\n",
       "6.000000        8\n",
       "5.500000        4\n",
       "7.000000        3\n",
       "8.000000        2\n",
       "8.500000        1\n",
       "9.000000        1\n",
       "7.500000        1\n",
       "Name: bathrooms, dtype: int64"
      ]
     },
     "execution_count": 37,
     "metadata": {},
     "output_type": "execute_result"
    },
    {
     "data": {
      "image/png": "[encoded data removed]",
      "text/plain": [
       "<Figure size 432x288 with 1 Axes>"
      ]
     },
     "metadata": {
      "needs_background": "light"
     },
     "output_type": "display_data"
    }
   ],
   "source": [
    "# checking the bathrooms\n",
    "df['bathrooms'].fillna(df['bathrooms'].mean(),inplace=True)\n",
    "# df['bathrooms'].info()\n",
    "sns.boxplot(data=df,y='bathrooms')                  # show the outliers\n",
    "df['bathrooms'].value_counts()"
   ]
  },
  {
   "cell_type": "code",
   "execution_count": 49,
   "metadata": {},
   "outputs": [
    {
     "data": {
      "text/plain": [
       "<AxesSubplot:xlabel='category'>"
      ]
     },
     "execution_count": 49,
     "metadata": {},
     "output_type": "execute_result"
    },
    {
     "data": {
      "image/png": "[encoded data removed]",
      "text/plain": [
       "<Figure size 432x288 with 1 Axes>"
      ]
     },
     "metadata": {
      "needs_background": "light"
     },
     "output_type": "display_data"
    }
   ],
   "source": [
    "# further check whether the outlier is related to the category of apartments\n",
    "df.groupby(\"category\")['bathrooms'].max().plot(kind=\"bar\")"
   ]
  },
  {
   "cell_type": "code",
   "execution_count": 12,
   "metadata": {},
   "outputs": [
    {
     "name": "stderr",
     "output_type": "stream",
     "text": [
      "c:\\ProgramData\\Anaconda3\\lib\\site-packages\\seaborn\\_decorators.py:36: FutureWarning: Pass the following variable as a keyword arg: x. From version 0.12, the only valid positional argument will be `data`, and passing other arguments without an explicit keyword will result in an error or misinterpretation.\n",
      "  warnings.warn(\n"
     ]
    },
    {
     "ename": "ValueError",
     "evalue": "Could not interpret input 'price'",
     "output_type": "error",
     "traceback": [
      "\u001b[1;31m---------------------------------------------------------------------------\u001b[0m",
      "\u001b[1;31mValueError\u001b[0m                                Traceback (most recent call last)",
      "Input \u001b[1;32mIn [12]\u001b[0m, in \u001b[0;36m<cell line: 2>\u001b[1;34m()\u001b[0m\n\u001b[0;32m      1\u001b[0m sns\u001b[38;5;241m.\u001b[39mdisplot(df,x\u001b[38;5;241m=\u001b[39m\u001b[38;5;124m'\u001b[39m\u001b[38;5;124mprice\u001b[39m\u001b[38;5;124m'\u001b[39m)\n\u001b[1;32m----> 2\u001b[0m \u001b[43msns\u001b[49m\u001b[38;5;241;43m.\u001b[39;49m\u001b[43mbarplot\u001b[49m\u001b[43m(\u001b[49m\u001b[43mdf\u001b[49m\u001b[43m,\u001b[49m\u001b[43m \u001b[49m\u001b[43mx\u001b[49m\u001b[38;5;241;43m=\u001b[39;49m\u001b[38;5;124;43m\"\u001b[39;49m\u001b[38;5;124;43mcategory\u001b[39;49m\u001b[38;5;124;43m\"\u001b[39;49m\u001b[43m,\u001b[49m\u001b[43m \u001b[49m\u001b[43my\u001b[49m\u001b[38;5;241;43m=\u001b[39;49m\u001b[38;5;124;43m\"\u001b[39;49m\u001b[38;5;124;43mprice\u001b[39;49m\u001b[38;5;124;43m\"\u001b[39;49m\u001b[43m,\u001b[49m\u001b[43m \u001b[49m\u001b[43mestimator\u001b[49m\u001b[38;5;241;43m=\u001b[39;49m\u001b[38;5;124;43m\"\u001b[39;49m\u001b[38;5;124;43mmean\u001b[39;49m\u001b[38;5;124;43m\"\u001b[39;49m\u001b[43m)\u001b[49m\n",
      "File \u001b[1;32mc:\\ProgramData\\Anaconda3\\lib\\site-packages\\seaborn\\_decorators.py:46\u001b[0m, in \u001b[0;36m_deprecate_positional_args.<locals>.inner_f\u001b[1;34m(*args, **kwargs)\u001b[0m\n\u001b[0;32m     36\u001b[0m     warnings\u001b[38;5;241m.\u001b[39mwarn(\n\u001b[0;32m     37\u001b[0m         \u001b[38;5;124m\"\u001b[39m\u001b[38;5;124mPass the following variable\u001b[39m\u001b[38;5;132;01m{}\u001b[39;00m\u001b[38;5;124m as \u001b[39m\u001b[38;5;132;01m{}\u001b[39;00m\u001b[38;5;124mkeyword arg\u001b[39m\u001b[38;5;132;01m{}\u001b[39;00m\u001b[38;5;124m: \u001b[39m\u001b[38;5;132;01m{}\u001b[39;00m\u001b[38;5;124m. \u001b[39m\u001b[38;5;124m\"\u001b[39m\n\u001b[0;32m     38\u001b[0m         \u001b[38;5;124m\"\u001b[39m\u001b[38;5;124mFrom version 0.12, the only valid positional argument \u001b[39m\u001b[38;5;124m\"\u001b[39m\n\u001b[1;32m   (...)\u001b[0m\n\u001b[0;32m     43\u001b[0m         \u001b[38;5;167;01mFutureWarning\u001b[39;00m\n\u001b[0;32m     44\u001b[0m     )\n\u001b[0;32m     45\u001b[0m kwargs\u001b[38;5;241m.\u001b[39mupdate({k: arg \u001b[38;5;28;01mfor\u001b[39;00m k, arg \u001b[38;5;129;01min\u001b[39;00m \u001b[38;5;28mzip\u001b[39m(sig\u001b[38;5;241m.\u001b[39mparameters, args)})\n\u001b[1;32m---> 46\u001b[0m \u001b[38;5;28;01mreturn\u001b[39;00m f(\u001b[38;5;241m*\u001b[39m\u001b[38;5;241m*\u001b[39mkwargs)\n",
      "File \u001b[1;32mc:\\ProgramData\\Anaconda3\\lib\\site-packages\\seaborn\\categorical.py:3182\u001b[0m, in \u001b[0;36mbarplot\u001b[1;34m(x, y, hue, data, order, hue_order, estimator, ci, n_boot, units, seed, orient, color, palette, saturation, errcolor, errwidth, capsize, dodge, ax, **kwargs)\u001b[0m\n\u001b[0;32m   3169\u001b[0m \u001b[38;5;129m@_deprecate_positional_args\u001b[39m\n\u001b[0;32m   3170\u001b[0m \u001b[38;5;28;01mdef\u001b[39;00m \u001b[38;5;21mbarplot\u001b[39m(\n\u001b[0;32m   3171\u001b[0m     \u001b[38;5;241m*\u001b[39m,\n\u001b[1;32m   (...)\u001b[0m\n\u001b[0;32m   3179\u001b[0m     \u001b[38;5;241m*\u001b[39m\u001b[38;5;241m*\u001b[39mkwargs,\n\u001b[0;32m   3180\u001b[0m ):\n\u001b[1;32m-> 3182\u001b[0m     plotter \u001b[38;5;241m=\u001b[39m \u001b[43m_BarPlotter\u001b[49m\u001b[43m(\u001b[49m\u001b[43mx\u001b[49m\u001b[43m,\u001b[49m\u001b[43m \u001b[49m\u001b[43my\u001b[49m\u001b[43m,\u001b[49m\u001b[43m \u001b[49m\u001b[43mhue\u001b[49m\u001b[43m,\u001b[49m\u001b[43m \u001b[49m\u001b[43mdata\u001b[49m\u001b[43m,\u001b[49m\u001b[43m \u001b[49m\u001b[43morder\u001b[49m\u001b[43m,\u001b[49m\u001b[43m \u001b[49m\u001b[43mhue_order\u001b[49m\u001b[43m,\u001b[49m\n\u001b[0;32m   3183\u001b[0m \u001b[43m                          \u001b[49m\u001b[43mestimator\u001b[49m\u001b[43m,\u001b[49m\u001b[43m \u001b[49m\u001b[43mci\u001b[49m\u001b[43m,\u001b[49m\u001b[43m \u001b[49m\u001b[43mn_boot\u001b[49m\u001b[43m,\u001b[49m\u001b[43m \u001b[49m\u001b[43munits\u001b[49m\u001b[43m,\u001b[49m\u001b[43m \u001b[49m\u001b[43mseed\u001b[49m\u001b[43m,\u001b[49m\n\u001b[0;32m   3184\u001b[0m \u001b[43m                          \u001b[49m\u001b[43morient\u001b[49m\u001b[43m,\u001b[49m\u001b[43m \u001b[49m\u001b[43mcolor\u001b[49m\u001b[43m,\u001b[49m\u001b[43m \u001b[49m\u001b[43mpalette\u001b[49m\u001b[43m,\u001b[49m\u001b[43m \u001b[49m\u001b[43msaturation\u001b[49m\u001b[43m,\u001b[49m\n\u001b[0;32m   3185\u001b[0m \u001b[43m                          \u001b[49m\u001b[43merrcolor\u001b[49m\u001b[43m,\u001b[49m\u001b[43m \u001b[49m\u001b[43merrwidth\u001b[49m\u001b[43m,\u001b[49m\u001b[43m \u001b[49m\u001b[43mcapsize\u001b[49m\u001b[43m,\u001b[49m\u001b[43m \u001b[49m\u001b[43mdodge\u001b[49m\u001b[43m)\u001b[49m\n\u001b[0;32m   3187\u001b[0m     \u001b[38;5;28;01mif\u001b[39;00m ax \u001b[38;5;129;01mis\u001b[39;00m \u001b[38;5;28;01mNone\u001b[39;00m:\n\u001b[0;32m   3188\u001b[0m         ax \u001b[38;5;241m=\u001b[39m plt\u001b[38;5;241m.\u001b[39mgca()\n",
      "File \u001b[1;32mc:\\ProgramData\\Anaconda3\\lib\\site-packages\\seaborn\\categorical.py:1584\u001b[0m, in \u001b[0;36m_BarPlotter.__init__\u001b[1;34m(self, x, y, hue, data, order, hue_order, estimator, ci, n_boot, units, seed, orient, color, palette, saturation, errcolor, errwidth, capsize, dodge)\u001b[0m\n\u001b[0;32m   1579\u001b[0m \u001b[38;5;28;01mdef\u001b[39;00m \u001b[38;5;21m__init__\u001b[39m(\u001b[38;5;28mself\u001b[39m, x, y, hue, data, order, hue_order,\n\u001b[0;32m   1580\u001b[0m              estimator, ci, n_boot, units, seed,\n\u001b[0;32m   1581\u001b[0m              orient, color, palette, saturation, errcolor,\n\u001b[0;32m   1582\u001b[0m              errwidth, capsize, dodge):\n\u001b[0;32m   1583\u001b[0m     \u001b[38;5;124;03m\"\"\"Initialize the plotter.\"\"\"\u001b[39;00m\n\u001b[1;32m-> 1584\u001b[0m     \u001b[38;5;28;43mself\u001b[39;49m\u001b[38;5;241;43m.\u001b[39;49m\u001b[43mestablish_variables\u001b[49m\u001b[43m(\u001b[49m\u001b[43mx\u001b[49m\u001b[43m,\u001b[49m\u001b[43m \u001b[49m\u001b[43my\u001b[49m\u001b[43m,\u001b[49m\u001b[43m \u001b[49m\u001b[43mhue\u001b[49m\u001b[43m,\u001b[49m\u001b[43m \u001b[49m\u001b[43mdata\u001b[49m\u001b[43m,\u001b[49m\u001b[43m \u001b[49m\u001b[43morient\u001b[49m\u001b[43m,\u001b[49m\n\u001b[0;32m   1585\u001b[0m \u001b[43m                             \u001b[49m\u001b[43morder\u001b[49m\u001b[43m,\u001b[49m\u001b[43m \u001b[49m\u001b[43mhue_order\u001b[49m\u001b[43m,\u001b[49m\u001b[43m \u001b[49m\u001b[43munits\u001b[49m\u001b[43m)\u001b[49m\n\u001b[0;32m   1586\u001b[0m     \u001b[38;5;28mself\u001b[39m\u001b[38;5;241m.\u001b[39mestablish_colors(color, palette, saturation)\n\u001b[0;32m   1587\u001b[0m     \u001b[38;5;28mself\u001b[39m\u001b[38;5;241m.\u001b[39mestimate_statistic(estimator, ci, n_boot, seed)\n",
      "File \u001b[1;32mc:\\ProgramData\\Anaconda3\\lib\\site-packages\\seaborn\\categorical.py:153\u001b[0m, in \u001b[0;36m_CategoricalPlotter.establish_variables\u001b[1;34m(self, x, y, hue, data, orient, order, hue_order, units)\u001b[0m\n\u001b[0;32m    151\u001b[0m     \u001b[38;5;28;01mif\u001b[39;00m \u001b[38;5;28misinstance\u001b[39m(var, \u001b[38;5;28mstr\u001b[39m):\n\u001b[0;32m    152\u001b[0m         err \u001b[38;5;241m=\u001b[39m \u001b[38;5;124m\"\u001b[39m\u001b[38;5;124mCould not interpret input \u001b[39m\u001b[38;5;124m'\u001b[39m\u001b[38;5;132;01m{}\u001b[39;00m\u001b[38;5;124m'\u001b[39m\u001b[38;5;124m\"\u001b[39m\u001b[38;5;241m.\u001b[39mformat(var)\n\u001b[1;32m--> 153\u001b[0m         \u001b[38;5;28;01mraise\u001b[39;00m \u001b[38;5;167;01mValueError\u001b[39;00m(err)\n\u001b[0;32m    155\u001b[0m \u001b[38;5;66;03m# Figure out the plotting orientation\u001b[39;00m\n\u001b[0;32m    156\u001b[0m orient \u001b[38;5;241m=\u001b[39m infer_orient(\n\u001b[0;32m    157\u001b[0m     x, y, orient, require_numeric\u001b[38;5;241m=\u001b[39m\u001b[38;5;28mself\u001b[39m\u001b[38;5;241m.\u001b[39mrequire_numeric\n\u001b[0;32m    158\u001b[0m )\n",
      "\u001b[1;31mValueError\u001b[0m: Could not interpret input 'price'"
     ]
    },
    {
     "data": {
      "image/png": "[encoded data removed]",
      "text/plain": [
       "<Figure size 360x360 with 1 Axes>"
      ]
     },
     "metadata": {
      "needs_background": "light"
     },
     "output_type": "display_data"
    }
   ],
   "source": [
    "sns.displot(df,x='price')\n",
    "sns.barplot(df, x=\"category\", y=\"price\", estimator=\"mean\")"
   ]
  }
 ],
 "metadata": {
  "kernelspec": {
   "display_name": "Python 3",
   "language": "python",
   "name": "python3"
  },
  "language_info": {
   "codemirror_mode": {
    "name": "ipython",
    "version": 3
   },
   "file_extension": ".py",
   "mimetype": "text/x-python",
   "name": "python",
   "nbconvert_exporter": "python",
   "pygments_lexer": "ipython3",
   "version": "3.9.12"
  }
 },
 "nbformat": 4,
 "nbformat_minor": 2
}
