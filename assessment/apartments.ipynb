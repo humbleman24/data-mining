{
 "cells": [
  {
   "cell_type": "markdown",
   "metadata": {},
   "source": [
    "# JC3503 Assignment - Apartments\n",
    "\n",
    "---\n",
    "\n",
    "Student Name: \n",
    "\n",
    "Student Email: \n",
    "\n",
    "Student ID: \n",
    "\n",
    "---\n",
    "\n",
    "Additional information about the dataset: https://archive.ics.uci.edu/dataset/555/apartment+for+rent+classified"
   ]
  },
  {
   "cell_type": "code",
   "execution_count": 1,
   "metadata": {},
   "outputs": [],
   "source": [
    "# Add any pre-requisites or libraries here\n",
    "import pandas as pd\n",
    "import seaborn as sns\n",
    "import sklearn as sk\n",
    "\n",
    "\n",
    "# Import the data\n",
    "df = pd.read_csv(\"apartments.csv\", low_memory=False)"
   ]
  }
 ],
 "metadata": {
  "kernelspec": {
   "display_name": "Python 3",
   "language": "python",
   "name": "python3"
  },
  "language_info": {
   "codemirror_mode": {
    "name": "ipython",
    "version": 3
   },
   "file_extension": ".py",
   "mimetype": "text/x-python",
   "name": "python",
   "nbconvert_exporter": "python",
   "pygments_lexer": "ipython3",
   "version": "3.10.8"
  }
 },
 "nbformat": 4,
 "nbformat_minor": 2
}
